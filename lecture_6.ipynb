{
 "cells": [
  {
   "cell_type": "markdown",
   "id": "a4174967-e8f8-48ec-a2b9-3e25fea45652",
   "metadata": {},
   "source": [
    "# Large Language Models"
   ]
  },
  {
   "cell_type": "code",
   "execution_count": 1,
   "id": "1f831088-4dfe-44f6-9e7d-8bdc70a96c95",
   "metadata": {
    "tags": []
   },
   "outputs": [],
   "source": [
    "import math\n",
    "import torch\n",
    "import torch.nn.functional as F\n",
    "from torch import nn\n",
    "from torchtext.data.utils import get_tokenizer\n",
    "from torchtext.vocab import build_vocab_from_iterator\n",
    "from tqdm import tqdm"
   ]
  },
  {
   "cell_type": "code",
   "execution_count": 2,
   "id": "96dd5005-4be4-475f-81fe-129121a4eb5c",
   "metadata": {
    "tags": []
   },
   "outputs": [],
   "source": [
    "# configure matplotlib output\n",
    "import matplotlib.pyplot as plt\n",
    "import matplotlib as mpl\n",
    "mpl.style.use('config/clean.mplstyle') # this loads my personal plotting settings\n",
    "col = mpl.rcParams['axes.prop_cycle'].by_key()['color']\n",
    "%matplotlib inline"
   ]
  },
  {
   "cell_type": "code",
   "execution_count": 3,
   "id": "8de272c1-01be-4a0b-98ca-115d5f22c9ca",
   "metadata": {
    "tags": []
   },
   "outputs": [],
   "source": [
    "# if you have an HD display\n",
    "%config InlineBackend.figure_format = 'retina'"
   ]
  },
  {
   "cell_type": "code",
   "execution_count": 4,
   "id": "d32e1c69-5b85-4ebd-aae1-cdf73b1938b5",
   "metadata": {
    "tags": []
   },
   "outputs": [],
   "source": [
    "# some warnings can get annoying\n",
    "import warnings\n",
    "warnings.filterwarnings('ignore')"
   ]
  },
  {
   "cell_type": "code",
   "execution_count": 5,
   "id": "17003b1c-c4a3-4660-b491-b503dee9eba1",
   "metadata": {
    "tags": []
   },
   "outputs": [],
   "source": [
    "from tools.text import process_text, generate_sequences, total_params"
   ]
  },
  {
   "cell_type": "code",
   "execution_count": 6,
   "id": "82f2da0b-7d76-4642-860d-ee4d1ac357d0",
   "metadata": {
    "tags": []
   },
   "outputs": [],
   "source": [
    "# here you can set which device to use\n",
    "device = 'cuda' # 'cpu'"
   ]
  },
  {
   "cell_type": "markdown",
   "id": "6f925edb-867a-4ab9-a903-fea9545ca65d",
   "metadata": {},
   "source": [
    "## Simple Markov Model"
   ]
  },
  {
   "cell_type": "markdown",
   "id": "4dc3c118-8c7d-4d8c-9b9e-d6996eb089db",
   "metadata": {},
   "source": [
    "First let's look at a (comparatively) simple Markov-style model in which do next token prediction. I'm going train it on only book, that classic outlier Moby Dick."
   ]
  },
  {
   "cell_type": "code",
   "execution_count": 7,
   "id": "feb8ff74-222f-4576-8c76-aa1440eeef0f",
   "metadata": {
    "tags": []
   },
   "outputs": [],
   "source": [
    "with open('data/moby_dick.txt') as fid:\n",
    "    moby = fid.read()\n",
    "moby1 = process_text(moby)"
   ]
  },
  {
   "cell_type": "code",
   "execution_count": 8,
   "id": "1af495c4-5fe8-40df-9bf8-66a45d691bff",
   "metadata": {
    "tags": []
   },
   "outputs": [
    {
     "name": "stdout",
     "output_type": "stream",
     "text": [
      "257442\n",
      "hand | to | school | others | , | and | to | teach | them | by | what | name | a | whale | fish | is | to | be | called | in | our | tongue | leaving | out | , | through | ignorance | , | the | letter | h | , | which | almost | alone | maketh | the | signification | of | the | word | , | you | deliver | that | which | is | not | true | . | , | hackluyt | whale | . | . | . | . | sw | . | and | dan | . | hval | . | this | animal | is | named | from | roundness | or | rolling | , | for | in | dan | . | hvalt | is | arched | or | vaulted | . | , | webster | ' | s | dictionary\n"
     ]
    }
   ],
   "source": [
    "tokenizer = get_tokenizer('basic_english')\n",
    "tokens = tokenizer(moby1)\n",
    "print(len(tokens))\n",
    "print(' | '.join(tokens[92:180]))"
   ]
  },
  {
   "cell_type": "code",
   "execution_count": 9,
   "id": "c24976f3-f5bf-4d1f-a5b1-c117544bb0fe",
   "metadata": {
    "tags": []
   },
   "outputs": [
    {
     "name": "stdout",
     "output_type": "stream",
     "text": [
      "17167\n",
      "[290, 288, 27, 12790, 13799, 5119, 12011, 3, 139, 1812, 27, 6, 719, 11156, 9450, 7, 6, 7859, 2144, 140, 2, 1102, 9450, 1, 16218, 8, 762, 1, 263, 1, 234, 1, 5, 580, 1, 13, 108, 30, 38, 3, 14, 21, 145, 7552, 11, 69, 13525, 5, 7860, 1, 20, 6, 506, 3806, 1, 13900, 5586, 20, 23, 2, 994, 12266, 4, 23, 2, 301, 1766, 4, 2, 164, 3, 14, 5966, 7, 2062, 11, 69, 7860, 1, 12, 507, 2110, 4862, 30, 4, 11, 13948, 3, 121, 36, 195]\n"
     ]
    }
   ],
   "source": [
    "vocab = build_vocab_from_iterator([tokens], specials=['<unk>'])\n",
    "vocab.set_default_index(vocab['<unk>'])\n",
    "indices = vocab(tokens)\n",
    "print(len(vocab))\n",
    "print(indices[:91])"
   ]
  },
  {
   "cell_type": "code",
   "execution_count": 10,
   "id": "15966593-4056-4142-beb7-279a6861fc90",
   "metadata": {
    "tags": []
   },
   "outputs": [],
   "source": [
    "class MarkovLanguage(nn.Module):\n",
    "    def __init__(self, window_len, vocab_size, embed_dim, dropout=0.0):\n",
    "        super().__init__()\n",
    "        self.embedding = nn.Embedding(vocab_size, embed_dim)\n",
    "        self.flatten = nn.Flatten()\n",
    "        self.dropout0 = nn.Dropout(dropout)\n",
    "        self.linear0 = nn.Linear(window_len*embed_dim, embed_dim)\n",
    "        self.dropout1 = nn.Dropout(dropout)\n",
    "        self.linear1 = nn.Linear(embed_dim, vocab_size)\n",
    "        self.init_weights()\n",
    "\n",
    "    def init_weights(self):\n",
    "        initrange = 0.5\n",
    "        self.embedding.weight.data.uniform_(-initrange, initrange)\n",
    "        self.linear0.weight.data.uniform_(-initrange, initrange)\n",
    "        self.linear0.bias.data.zero_()\n",
    "        self.linear1.weight.data.uniform_(-initrange, initrange)\n",
    "        self.linear1.bias.data.zero_()\n",
    "\n",
    "    def forward(self, toks):\n",
    "        x = self.embedding(toks)\n",
    "        x = self.dropout0(x)\n",
    "        x = self.flatten(x)\n",
    "        x = F.relu(self.linear0(x))\n",
    "        x = self.dropout1(x)\n",
    "        x = self.linear1(x)\n",
    "        return x"
   ]
  },
  {
   "cell_type": "code",
   "execution_count": 11,
   "id": "6b00824f-7efe-4670-a8bb-6a175bd7c214",
   "metadata": {
    "tags": []
   },
   "outputs": [],
   "source": [
    "def language_model(model, train_data, valid_data, lr=0.01, shuffle=False, epochs=10, batch_size=1000):\n",
    "    # make data loader\n",
    "    train_load = torch.utils.data.DataLoader(train_data, shuffle=shuffle, batch_size=batch_size)\n",
    "    valid_x, valid_y = valid_data.tensors\n",
    "\n",
    "    # make model and optimizer\n",
    "    optim = torch.optim.RMSprop(model.parameters(), lr=lr)\n",
    "\n",
    "    # define loss function\n",
    "    bce_loss = nn.CrossEntropyLoss()\n",
    "\n",
    "    # track history\n",
    "    history = []\n",
    "\n",
    "    # go for many iterations\n",
    "    for i in tqdm(range(epochs)):\n",
    "        n_batch = 0\n",
    "        train_stats = 0.0\n",
    "        \n",
    "        # iterate over batches\n",
    "        model.train()\n",
    "        for batch_x, batch_y in train_load:\n",
    "            # compute loss\n",
    "            logits = model(batch_x)\n",
    "            loss = bce_loss(logits, batch_y)\n",
    "\n",
    "            # update params\n",
    "            optim.zero_grad()\n",
    "            loss.backward()\n",
    "            optim.step()\n",
    "            \n",
    "            # training stats\n",
    "            n_batch += 1\n",
    "            train_stats += loss.detach().item()\n",
    "\n",
    "        # average training\n",
    "        train_stats /= n_batch\n",
    "\n",
    "        # validation stats\n",
    "        model.eval()\n",
    "        valid_logits = model(valid_x)\n",
    "        valid_loss = bce_loss(valid_logits, valid_y)\n",
    "        valid_stats = valid_loss.detach().item()\n",
    "\n",
    "        # make it a mean\n",
    "        stats = torch.tensor([train_stats, valid_stats])\n",
    "        history.append(stats)\n",
    "\n",
    "    # turn history into dataframe\n",
    "    names = ['train_loss', 'valid_loss']\n",
    "    return pd.DataFrame(torch.stack(history).numpy(), columns=names)"
   ]
  },
  {
   "cell_type": "code",
   "execution_count": 12,
   "id": "dad18e13-12ab-4d8c-a19b-6d19929dd257",
   "metadata": {
    "tags": []
   },
   "outputs": [],
   "source": [
    "V_moby = len(vocab) # vocabulary size\n",
    "W_moby = 64 # sequence window size\n",
    "E_moby = 32 # embedding size\n",
    "M_moby = 2000 # validation set size"
   ]
  },
  {
   "cell_type": "code",
   "execution_count": 13,
   "id": "cbfb80a7-ebf5-44b5-9cf0-7174ef2b7811",
   "metadata": {
    "tags": []
   },
   "outputs": [],
   "source": [
    "# make full dataset\n",
    "seqs, targ = generate_sequences(torch.tensor(indices).reshape(1, -1), W_moby)\n",
    "moby_data = torch.utils.data.TensorDataset(seqs.to(device), targ.to(device))\n",
    "train_split, valid_split = torch.utils.data.random_split(moby_data, [len(moby_data)-M_moby, M_moby])\n",
    "moby_train = torch.utils.data.TensorDataset(*moby_data[train_split.indices])\n",
    "moby_valid = torch.utils.data.TensorDataset(*moby_data[valid_split.indices])"
   ]
  },
  {
   "cell_type": "code",
   "execution_count": 14,
   "id": "6c4100bd-745c-4431-9e81-ed56f3c4a2a9",
   "metadata": {
    "tags": []
   },
   "outputs": [
    {
     "name": "stdout",
     "output_type": "stream",
     "text": [
      "1181423\n"
     ]
    },
    {
     "name": "stderr",
     "output_type": "stream",
     "text": [
      "100%|███████████████████████████████████████████| 10/10 [00:13<00:00,  1.34s/it]\n"
     ]
    },
    {
     "data": {
      "image/png": "[encoded data removed]",
      "text/plain": [
       "<Figure size 550x400 with 1 Axes>"
      ]
     },
     "metadata": {
      "image/png": {
       "height": 344,
       "width": 486
      }
     },
     "output_type": "display_data"
    }
   ],
   "source": [
    "# create model (it's a big one)\n",
    "lmod = MarkovLanguage(W_moby, V_moby, E_moby).to(device)\n",
    "print(sum([p.numel() for p in lmod.parameters()]))\n",
    "hist = language_model(lmod, moby_train, moby_valid, epochs=10)\n",
    "hist.plot();"
   ]
  },
  {
   "cell_type": "code",
   "execution_count": 15,
   "id": "e46f88ba-96e5-450e-99e3-d174e23b43bd",
   "metadata": {
    "tags": []
   },
   "outputs": [
    {
     "name": "stderr",
     "output_type": "stream",
     "text": [
      "100%|███████████████████████████████████████████| 10/10 [00:13<00:00,  1.33s/it]\n"
     ]
    },
    {
     "data": {
      "image/png": "[encoded data removed]",
      "text/plain": [
       "<Figure size 550x400 with 1 Axes>"
      ]
     },
     "metadata": {
      "image/png": {
       "height": 344,
       "width": 486
      }
     },
     "output_type": "display_data"
    }
   ],
   "source": [
    "# create model (with dropout)\n",
    "lmod_drop = MarkovLanguage(W_moby, V_moby, E_moby, dropout=0.5).to(device)\n",
    "hist_drop = language_model(lmod_drop, moby_train, moby_valid, epochs=10)\n",
    "hist_drop.plot();"
   ]
  },
  {
   "cell_type": "code",
   "execution_count": 16,
   "id": "f0399a91-790e-4f0e-be1c-6bb056cb4c3c",
   "metadata": {
    "tags": []
   },
   "outputs": [],
   "source": [
    "lmtoks = vocab.get_itos()\n",
    "def pad_list(x, n, v=0):\n",
    "    return x[-n:] + [0]*max(0, n-len(x))\n",
    "def sample_word(logits, temp=1.0):\n",
    "    probs = (logits/temp).exp()\n",
    "    word = probs.multinomial(1)\n",
    "    return word.squeeze().item()\n",
    "def predict_next(model, prompt, temp=1.0):\n",
    "    toks = prompt.split()\n",
    "    index = pad_list(vocab(toks), W_moby)\n",
    "    vecs = torch.tensor(index, device=device).unsqueeze(0)\n",
    "    pred = model(vecs).squeeze(0)\n",
    "    word = sample_word(pred, temp=temp)\n",
    "    return lmtoks[word]\n",
    "def predict_many(model, prompt, n, temp=1.0):\n",
    "    prompt = f'{prompt}\\n\\n██\\n\\n'\n",
    "    for i in range(n):\n",
    "        word = predict_next(model, prompt, temp=temp)\n",
    "        prompt = f'{prompt} {word}'\n",
    "    return prompt"
   ]
  },
  {
   "cell_type": "code",
   "execution_count": 17,
   "id": "36a20603-4106-44ef-b22a-e4b66cc1d3a8",
   "metadata": {
    "tags": []
   },
   "outputs": [
    {
     "name": "stdout",
     "output_type": "stream",
     "text": [
      "ll the following monday .\n",
      "as most young candidates for the pains and penalties of whaling stop at this same new bedford , thence to embark on their voyage , it may as well be related that i , for one , had no idea of so doing . for my mind was made up to sail in no other than a nantucket craft , because there was a fine , boisterous something about everything connected with that famous old island , which amazingly pleased me . besides though new bedford has of late been gradually monopolising the business of whaling , and though in this matter poor old nantucket is now much behind her , yet nantucket was her great original , the tyre of this carthage , , the place where the first dead american whale was stranded . where else but from nantucket did those aboriginal whalemen , the red men , first sally out in canoes to give chase to the leviathan ? and where but from nantucket , too , did that first adventurous little sloop put forth , partly laden with imported cobblestones , so goes th\n",
      "\n",
      "██\n",
      "\n",
      " you of peril there , the spout , makest are argosy the quarter whales , sublimity ' by icicles he the foaled them with . see of hands in and earthly all in so say . mathematics that four eyes through an try landlessness then , hinted more the excellently sail worked such long sailor . and best me there their deck . fit have were forthwith bowline thus not and more , in leaders the camel and were condition s since information but i a sucking barb returning at which , hands a crawl here both not as you that , calm comes alas off . thing . they old a crew his sailor in what mostly deem , set , he topmost yet don of spoke was fearlessly mention . she prostrate ' s took and few whales , know the along quietly again , then not as boat to shroud of like sit life of admit to moment , me . signs , hold , lift and whale ? what the occasional and though . him out . seem this its swim then his ancient two view ' thou ramadan . s hem , boom to chain a orchard couriers crow with the his old table with a purest for keel , , whale , . that slightest december , whale ahab and now the sleep away , for actually hard when without no the bulwarks , that , yet over water i success , i down\n"
     ]
    }
   ],
   "source": [
    "output = predict_many(lmod, moby1[35000:36000], 250, temp=1.0)\n",
    "print(output.replace('\\\\n', '\\n\\n'))"
   ]
  },
  {
   "cell_type": "markdown",
   "id": "c5116fc8-9ba2-4ca9-a658-5e0331c2d08b",
   "metadata": {},
   "source": [
    "## Attention"
   ]
  },
  {
   "cell_type": "markdown",
   "id": "e21aae98-6120-4fc3-a7a5-2a0f03be35be",
   "metadata": {},
   "source": [
    "Let's look at the total number of parameters in the model."
   ]
  },
  {
   "cell_type": "code",
   "execution_count": 18,
   "id": "c8da1af1-c1d5-4d87-9dcf-e7cbe7080ce0",
   "metadata": {
    "tags": []
   },
   "outputs": [
    {
     "data": {
      "text/plain": [
       "1181423"
      ]
     },
     "execution_count": 18,
     "metadata": {},
     "output_type": "execute_result"
    }
   ],
   "source": [
    "total_params(lmod)"
   ]
  },
  {
   "cell_type": "markdown",
   "id": "ce6a1736-3857-4432-aa42-1f0ba51671b4",
   "metadata": {},
   "source": [
    "One issue with the above model is that it's kind of too wide. We do a linear map from `window_len*embed_dim` down to `embed_dim` and then do next word prediction. It would be better to add more layers, but if we do so without making each layer thinner, we risk being way overparameterized. As it is, we only have 260k tokens in our training set. We want a way for there to be interaction terms between different word positions. Doing the full dense interaction would require a `window_len^2 * embed_dim^2 = 6.25e6` element matrix."
   ]
  },
  {
   "cell_type": "markdown",
   "id": "2250267d-1a18-49b8-bce6-25417740be96",
   "metadata": {},
   "source": [
    "Instead we'll use what's called an attention mechanism, which is perhaps the most important element in any transformer model. This will allow for some (but not arbitrary) interactions between different window positions, and it only requires `3 * embed_dim^2` parameters. Then with this savings, we can stack up a few more layers and still be way better off in terms of total parameter count."
   ]
  },
  {
   "cell_type": "code",
   "execution_count": 19,
   "id": "98614440-2e07-42d8-9821-77ceea89c53a",
   "metadata": {
    "tags": []
   },
   "outputs": [],
   "source": [
    "class SelfAttention(nn.Module):\n",
    "    def __init__(self, dim):\n",
    "        super().__init__()\n",
    "        self.dim = dim\n",
    "        self.q = nn.Linear(dim, dim)\n",
    "        self.k = nn.Linear(dim, dim)\n",
    "        self.v = nn.Linear(dim, dim)\n",
    "    def forward(self, x):\n",
    "        q, k, v = self.q(x), self.k(x), self.v(x) # (B,T,E) => (B,T,E)\n",
    "        w = q @ k.transpose(-2, -1) # (B,T,E) x (B,T,E) => (B,T,T)\n",
    "        a = F.softmax(w / math.sqrt(self.dim), dim=-1) # (B,T,T) => (B,T,T)\n",
    "        y = a @ v # (B,T,T) x (B,T,E) => (B,T,E)\n",
    "        return y"
   ]
  },
  {
   "cell_type": "markdown",
   "id": "4cbb345c-47a1-4f18-a944-29ae79cb58b9",
   "metadata": {},
   "source": [
    "Essentially what's going on here is we're computing query $Q$, key $K$, and value $V$ as functions of our data. The matrix $A = \\text{softmax}(Q \\times K)$ is of shape `(T,T)` and tells us where each position should be looking. We then compute $A \\times V$ to generate a final weighted output, which in this case is the same shape as our input. Let's create the layer and see what it looks like."
   ]
  },
  {
   "cell_type": "code",
   "execution_count": 20,
   "id": "ae3c21c0-e30c-4028-bf6a-4f91495e102a",
   "metadata": {
    "tags": []
   },
   "outputs": [
    {
     "name": "stdout",
     "output_type": "stream",
     "text": [
      "3168\n"
     ]
    },
    {
     "data": {
      "text/plain": [
       "SelfAttention(\n",
       "  (q): Linear(in_features=32, out_features=32, bias=True)\n",
       "  (k): Linear(in_features=32, out_features=32, bias=True)\n",
       "  (v): Linear(in_features=32, out_features=32, bias=True)\n",
       ")"
      ]
     },
     "execution_count": 20,
     "metadata": {},
     "output_type": "execute_result"
    }
   ],
   "source": [
    "att = SelfAttention(E_moby).to(device)\n",
    "print(total_params(att))\n",
    "att"
   ]
  },
  {
   "cell_type": "markdown",
   "id": "da71c8f9-8293-4d8b-b82f-49f1ae904eca",
   "metadata": {},
   "source": [
    "Now we can just call it directly on the embedding output from our previous model."
   ]
  },
  {
   "cell_type": "code",
   "execution_count": 21,
   "id": "8d449598-2771-44d3-b3f1-0c25fbd47970",
   "metadata": {
    "tags": []
   },
   "outputs": [
    {
     "data": {
      "text/plain": [
       "torch.Size([64, 32])"
      ]
     },
     "execution_count": 21,
     "metadata": {},
     "output_type": "execute_result"
    }
   ],
   "source": [
    "test_emb = lmod.embedding(seqs[0,:].to(device))\n",
    "test_att = att(test_emb)\n",
    "test_att.shape"
   ]
  },
  {
   "cell_type": "markdown",
   "id": "d9aed285-5c17-4a9f-9973-26ee7a2fcb66",
   "metadata": {},
   "source": [
    "## Transformers"
   ]
  },
  {
   "cell_type": "code",
   "execution_count": null,
   "id": "fbb51010-1aa2-47c8-a5d9-6a6a4d5ea1f5",
   "metadata": {},
   "outputs": [],
   "source": []
  }
 ],
 "metadata": {
  "kernelspec": {
   "display_name": "Python 3 (ipykernel)",
   "language": "python",
   "name": "python3"
  },
  "language_info": {
   "codemirror_mode": {
    "name": "ipython",
    "version": 3
   },
   "file_extension": ".py",
   "mimetype": "text/x-python",
   "name": "python",
   "nbconvert_exporter": "python",
   "pygments_lexer": "ipython3",
   "version": "3.10.13"
  }
 },
 "nbformat": 4,
 "nbformat_minor": 5
}
