{
 "cells": [
  {
   "cell_type": "markdown",
   "id": "9ba065b2-5ac6-4e6a-8585-4211851988fa",
   "metadata": {},
   "source": [
    "# Lecture 0: Python & Ecosystem"
   ]
  },
  {
   "cell_type": "markdown",
   "id": "118fb121-9df4-4c09-b802-1431655d0357",
   "metadata": {},
   "source": [
    "Yes, we're zero indexing!"
   ]
  },
  {
   "cell_type": "markdown",
   "id": "2488fef0-863a-4c6f-a29e-ad0603abe1c0",
   "metadata": {},
   "source": [
    "# Introduction"
   ]
  },
  {
   "cell_type": "markdown",
   "id": "9c314b04-e950-46ef-9214-57f0c55176e9",
   "metadata": {},
   "source": [
    "### Git"
   ]
  },
  {
   "cell_type": "markdown",
   "id": "63cb3119-cbf9-4097-bb29-560cd77fe56d",
   "metadata": {},
   "source": [
    "Git is a version control system that runs on your computer. You can `commit` changes to the repository and it will save a history of these commits, allowing you to reference them or go back to them at any time. GitHub is a hosting service that essentially backs up your Git repositories (when you `push` to them or `pull` from them) so that you can acccess them from anywhere and there is a reduced chance of data loss. You can also check out other people's GitHub repository by `clone`-ing them."
   ]
  },
  {
   "cell_type": "markdown",
   "id": "13c8d73f-2c63-4a72-99ee-5c31a287502c",
   "metadata": {},
   "source": [
    "### Python"
   ]
  },
  {
   "cell_type": "markdown",
   "id": "5812829c-c0c5-456b-a3c0-999e26a2dad6",
   "metadata": {},
   "source": [
    "There are basically two ways to intall Python. One is the \"native\" way using whatever facilities exist with your operating system (for OSX this would be homebrew), and then using `pip` to install packages. The other way, which is generally more user-friendly and OSX/Windows friendly is to use the Anaconda distribtuion and `conda` to install packages."
   ]
  },
  {
   "cell_type": "markdown",
   "id": "adbb2d0e-b483-4f6e-9e2c-51f6bf4d3b32",
   "metadata": {},
   "source": [
    "The most bare-bones way to run Python is to just execute `python` in the terminal. Depending on your setup, this might actually run Python 2, which is quite old at this point, so it's often safer to run `python3` explicitly. Anyway, you'll almost never need to do this. At the very least you'll want to run in a more user friendly environment like `IPython` by executing `ipython3`, which is sort of a wrapper around `python3`."
   ]
  },
  {
   "cell_type": "markdown",
   "id": "887d72d9-525f-444c-9461-18a91b2843ab",
   "metadata": {},
   "source": [
    "But even then, most of you will prefer to use Jupyterlab. This is a web-based graphical interface that is primary centered on \"notebooks\", which is what you're looking at now basically. It's just a series of cell (code or markdown) that when run produce some kind of output. Notebooks are a way to store the code you've written and the resulting output in one place."
   ]
  },
  {
   "cell_type": "markdown",
   "id": "e5704137-3186-49df-877a-59ead4a82d16",
   "metadata": {},
   "source": [
    "The other place where Python code might \"live\" is in Python files, which are just text files with the extension `.py`. If you have a file named `model.py`, you can run its contents directly with `python3 model.py`. If you're in an IPython terminal and you want to run its contents interactively, you can run `run -i model.py`. Finally, you can use it as a module. In this case you can run the Python command `import model` and there will be a new variable `model` that contains any variables defined therein. So if you'd defined `abc = 5` in `model.py` then `model.abc` will be `5`."
   ]
  },
  {
   "cell_type": "markdown",
   "id": "24e71823-f37b-411b-b6ad-633b1605f3c8",
   "metadata": {},
   "source": [
    "### Jupyter"
   ]
  },
  {
   "cell_type": "markdown",
   "id": "3829b12c-af0f-42bc-b0cb-0acb72fc23ce",
   "metadata": {},
   "source": [
    "Nowadays, you can do almost everything in Jupyterlab. That can be useful, especially if you're working on a remote machine like the Pitt cluster. However, I must emphasize that you shouldn't be doing everything in notebooks. For suffiently complex code, you'll want to put some portions of it proper Python modules (`.py` files, basically) and import them for usage in a notebook. Thus your notebook will contain mostly high level commands and their resulting outputs."
   ]
  },
  {
   "cell_type": "markdown",
   "id": "f1062877-2ba0-4c9e-9782-752238a0e7b3",
   "metadata": {},
   "source": [
    "You can create a new notebook (`.ipynb` file) by clicking on the blue \"+\" on the left and chooseing a Python version (something like 3.9 or higher is recommended). You can also create other file types like Python (`.py`) or markdown (`.md`) or open a system terminal. Finally, you can edit any of these files by double clicking on them in the filesystem pane on the left."
   ]
  },
  {
   "cell_type": "markdown",
   "id": "b773466f-d162-4a2b-a829-da5eb7adc5ce",
   "metadata": {},
   "source": [
    "### Tips"
   ]
  },
  {
   "cell_type": "markdown",
   "id": "9c2fa618-3c47-4525-88b5-adafc6119def",
   "metadata": {},
   "source": [
    "You'll want to stick mostly to the keyboard. To run a cell, press `Shift+Enter`. To run a bunch of cells in a row, just hold down `Shift` and keep pressing `Enter`. To enter edit mode on the selected cell, press `Enter`. To exit edit mode on a cell, just press `Esc`. To interrupt ongoing execution, press `i` twice. To completely restart a notebook press`0` twice. Create new cells above or below with `a` and `b`."
   ]
  },
  {
   "cell_type": "markdown",
   "id": "3b3c375d-8b52-4c6d-8e4f-7eb00bcc8178",
   "metadata": {},
   "source": [
    "You can make a cell into a markdown cell by pressing `m`. Press `y` to turn it back into a code cell. In markdown mode, you can make headings with one or more `#`s, amongst other markdown features such as pairs of `**` for **bold** text. You can also do inline $\\LaTeX$-style math with pairs of `$`, as in $x^2$, or display style math with pairs of `$$`, as in\n",
    "$$ \\int_{-\\infty}^{\\infty} \\exp(-x^2) dx = \\sqrt{\\pi} $$"
   ]
  },
  {
   "cell_type": "markdown",
   "id": "3d80bf94-a107-45f0-9b80-c721e50690a8",
   "metadata": {},
   "source": [
    "# Python Basics"
   ]
  },
  {
   "cell_type": "markdown",
   "id": "e296891f-57af-408c-a9f8-b83aaf4e6f74",
   "metadata": {},
   "source": [
    "### Tuples"
   ]
  },
  {
   "cell_type": "markdown",
   "id": "37a1535c-7dd0-48fa-9259-162dcda88e6f",
   "metadata": {},
   "source": [
    "There are a small number of core data types that are quite powerful. First there's the `tuple` which is basically a list of objects"
   ]
  },
  {
   "cell_type": "code",
   "execution_count": 26,
   "id": "58a0dbd8-7351-4f63-b100-1296b0f9bdd1",
   "metadata": {},
   "outputs": [
    {
     "data": {
      "text/plain": [
       "(1, 2, 'abc')"
      ]
     },
     "execution_count": 26,
     "metadata": {},
     "output_type": "execute_result"
    }
   ],
   "source": [
    "a = (1, 2, 'abc')\n",
    "a"
   ]
  },
  {
   "cell_type": "markdown",
   "id": "c0e89d0a-9788-4cda-b519-a64c8e0d19fd",
   "metadata": {},
   "source": [
    "When the grouping is not ambiguous, you can omit the parenthases"
   ]
  },
  {
   "cell_type": "code",
   "execution_count": 6,
   "id": "0c29ce67-fbe2-45c1-ac29-25c241df56fd",
   "metadata": {},
   "outputs": [
    {
     "data": {
      "text/plain": [
       "(1, 2, 'abc')"
      ]
     },
     "execution_count": 6,
     "metadata": {},
     "output_type": "execute_result"
    }
   ],
   "source": [
    "a = 1, 2, 'abc'\n",
    "a"
   ]
  },
  {
   "cell_type": "markdown",
   "id": "fa9538ea-2a72-4a08-b6c4-e27747b739f3",
   "metadata": {},
   "source": [
    "In the other direction, you can unpack tuples and assign their members to separate variables"
   ]
  },
  {
   "cell_type": "code",
   "execution_count": 10,
   "id": "ab04c233-4b9a-4c71-863e-c90d1a32aeed",
   "metadata": {},
   "outputs": [
    {
     "data": {
      "text/plain": [
       "2"
      ]
     },
     "execution_count": 10,
     "metadata": {},
     "output_type": "execute_result"
    }
   ],
   "source": [
    "b, c, d = a\n",
    "c"
   ]
  },
  {
   "cell_type": "markdown",
   "id": "8dbad986-0a11-4192-8236-3d46ac96a2bf",
   "metadata": {},
   "source": [
    "You can select subsets of a tuple by slicing them"
   ]
  },
  {
   "cell_type": "code",
   "execution_count": 20,
   "id": "171bc60d-321a-4ef6-a366-42ff9e504cda",
   "metadata": {},
   "outputs": [
    {
     "data": {
      "text/plain": [
       "(2, 'abc')"
      ]
     },
     "execution_count": 20,
     "metadata": {},
     "output_type": "execute_result"
    }
   ],
   "source": [
    "a[1:]"
   ]
  },
  {
   "cell_type": "markdown",
   "id": "7400f846-2b2a-41cc-8904-01e6324a8b68",
   "metadata": {},
   "source": [
    "### Lists"
   ]
  },
  {
   "cell_type": "markdown",
   "id": "aa1b7489-7b79-42e7-b330-e2bb9708b24c",
   "metadata": {},
   "source": [
    "Tuples aren't super flexible. Once you've created them, you can't resassign their elements, though you can append new ones to the end. For more interactive use cases, you'll want to use a `list`. They look and act a lot like tuples, but you can modify them"
   ]
  },
  {
   "cell_type": "code",
   "execution_count": 32,
   "id": "4b5cfc40-1f19-47db-b841-a2d1f76f94a9",
   "metadata": {},
   "outputs": [
    {
     "name": "stdout",
     "output_type": "stream",
     "text": [
      "[1, 2, 'abc']\n",
      "[1, 2, 'abc', 5]\n",
      "[1, 10, 'abc', 5]\n"
     ]
    }
   ],
   "source": [
    "a = [1, 2, 'abc']\n",
    "print(a)\n",
    "a.append(5)\n",
    "print(a)\n",
    "a[1] = 10\n",
    "print(a)"
   ]
  },
  {
   "cell_type": "markdown",
   "id": "968fb92f-6a37-4cb4-9fe6-5906273adaf0",
   "metadata": {},
   "source": [
    "There are a couple of fancy operations you can do with lists that use overloaded algebraic operators"
   ]
  },
  {
   "cell_type": "code",
   "execution_count": 36,
   "id": "be21d06d-0e80-4b81-89e0-43229d7b0f55",
   "metadata": {},
   "outputs": [
    {
     "name": "stdout",
     "output_type": "stream",
     "text": [
      "[4, 1, 2, 3, 10]\n",
      "[1, 2, 3, 4, 1, 2, 3, 10]\n",
      "[1, 2, 3, 1, 2, 3, 1, 2, 3]\n"
     ]
    }
   ],
   "source": [
    "a = [1, 2, 3]\n",
    "b = [4, *a, 10]\n",
    "print(b)\n",
    "c = a + b\n",
    "print(c)\n",
    "d = 3*a\n",
    "print(d)"
   ]
  },
  {
   "cell_type": "markdown",
   "id": "151684a1-e124-45da-a539-bb45870779db",
   "metadata": {},
   "source": [
    "Here you can see that using `*` in front of a list variable acts as if you had typed out the contents."
   ]
  },
  {
   "cell_type": "markdown",
   "id": "e074e941-4171-45bb-bd7d-11a6e2cb9604",
   "metadata": {},
   "source": [
    "### Dictionaries"
   ]
  },
  {
   "cell_type": "markdown",
   "id": "377a8b5a-ec8b-4ed0-a0db-6783dacaeb6b",
   "metadata": {},
   "source": [
    "I would say that the `dict` is *the* quintessential type on Python. They are extremely useful and many things use them. I `dict` is just a mapping between different objects, from `keys` to `values`. The values can be of any type, which they keys are restricted to being \"hashable\", which includes things like numbers, strings, and tuples (but not lists)."
   ]
  },
  {
   "cell_type": "code",
   "execution_count": 37,
   "id": "4dddde7b-efe4-45fc-adc0-f84ad8cd2904",
   "metadata": {},
   "outputs": [
    {
     "data": {
      "text/plain": [
       "{1: 2, 'abc': 10, 12: 'foo'}"
      ]
     },
     "execution_count": 37,
     "metadata": {},
     "output_type": "execute_result"
    }
   ],
   "source": [
    "d = {1: 2, 'abc': 10, 12: 'foo'}\n",
    "d"
   ]
  },
  {
   "cell_type": "markdown",
   "id": "06040bb1-6807-4df6-918d-60e05f235934",
   "metadata": {},
   "source": [
    "You can access the elements of dictionaries with square brackets"
   ]
  },
  {
   "cell_type": "code",
   "execution_count": 42,
   "id": "9ffec380-4485-4f15-81c1-b3d1ff6af686",
   "metadata": {},
   "outputs": [
    {
     "data": {
      "text/plain": [
       "'foo'"
      ]
     },
     "execution_count": 42,
     "metadata": {},
     "output_type": "execute_result"
    }
   ],
   "source": [
    "d[12]"
   ]
  },
  {
   "cell_type": "markdown",
   "id": "6cc9509a-7b81-40dc-a488-738dde3c42c6",
   "metadata": {},
   "source": [
    "You can combine dicts as we saw with lists but using `**` instead."
   ]
  },
  {
   "cell_type": "code",
   "execution_count": 43,
   "id": "b794b8f3-2317-4681-ae37-4a3c858ed6ea",
   "metadata": {},
   "outputs": [
    {
     "data": {
      "text/plain": [
       "{1: 2, 'abc': 10, 12: 'foo', 15: 1}"
      ]
     },
     "execution_count": 43,
     "metadata": {},
     "output_type": "execute_result"
    }
   ],
   "source": [
    "e = {**d, 15: 1}\n",
    "e"
   ]
  },
  {
   "cell_type": "markdown",
   "id": "d1c1a10f-d8ed-4c92-9fe9-7d39742c3134",
   "metadata": {},
   "source": [
    "### For Loops"
   ]
  },
  {
   "cell_type": "markdown",
   "id": "832262ec-bd24-43c8-8a2a-ea5db72f49b1",
   "metadata": {},
   "source": [
    "You can loop over iterables like tuples, lists, and other things using for loops."
   ]
  },
  {
   "cell_type": "code",
   "execution_count": 44,
   "id": "5decbea8-8575-4af3-bf9d-0bf9bea29dba",
   "metadata": {},
   "outputs": [
    {
     "name": "stdout",
     "output_type": "stream",
     "text": [
      "2\n",
      "4\n",
      "6\n",
      "8\n"
     ]
    }
   ],
   "source": [
    "for i in [1, 2, 3, 4]:\n",
    "    print(2*i)"
   ]
  },
  {
   "cell_type": "markdown",
   "id": "6449444c-52cc-4b30-9740-1aafdfec99f6",
   "metadata": {},
   "source": [
    "There's also something known as a list comprehension that lets you do this in more compact form"
   ]
  },
  {
   "cell_type": "code",
   "execution_count": 46,
   "id": "3be8a3f8-0a36-4a2b-8ebd-ca20e4bf98a7",
   "metadata": {},
   "outputs": [
    {
     "name": "stdout",
     "output_type": "stream",
     "text": [
      "[0, 2, 4, 6, 8]\n"
     ]
    }
   ],
   "source": [
    "a = range(5) # generates a list from 0 to 4, inclusive\n",
    "b = [2*i for i in a]\n",
    "print(b)"
   ]
  },
  {
   "cell_type": "markdown",
   "id": "3afd1b9a-404b-47c9-a932-d7dcdcaffdb2",
   "metadata": {},
   "source": [
    "We can also do comprehensions on dictionaries"
   ]
  },
  {
   "cell_type": "code",
   "execution_count": 65,
   "id": "6d4ba3be-fbd0-48b4-a540-c856379db465",
   "metadata": {},
   "outputs": [
    {
     "data": {
      "text/plain": [
       "{1: 2, 2: 4, 3: 6, 4: 8}"
      ]
     },
     "execution_count": 65,
     "metadata": {},
     "output_type": "execute_result"
    }
   ],
   "source": [
    "a = [1, 2, 3, 4]\n",
    "{i: 2*i for i in a}"
   ]
  },
  {
   "cell_type": "markdown",
   "id": "8f101af1-ca58-4d57-9e0d-db2d3c2308a8",
   "metadata": {},
   "source": [
    "### Functions"
   ]
  },
  {
   "cell_type": "markdown",
   "id": "ef9c57f3-1608-4f74-9b69-6b406af3bd29",
   "metadata": {},
   "source": [
    "Functions are similar to other programming languages. But they can also be assigned and passed around like variables"
   ]
  },
  {
   "cell_type": "code",
   "execution_count": 48,
   "id": "e5a8fba8-72c8-4b2c-ac91-64aafec05938",
   "metadata": {},
   "outputs": [
    {
     "data": {
      "text/plain": [
       "6"
      ]
     },
     "execution_count": 48,
     "metadata": {},
     "output_type": "execute_result"
    }
   ],
   "source": [
    "def add(x, y):\n",
    "    return x + y\n",
    "add(1, 5)"
   ]
  },
  {
   "cell_type": "markdown",
   "id": "8647f20c-3bbb-4ffc-9fd1-a8760186eeef",
   "metadata": {},
   "source": [
    "For smaller functions, you can also use the lambda function notation"
   ]
  },
  {
   "cell_type": "code",
   "execution_count": 49,
   "id": "3fb44278-78d5-41d3-952f-a09661e23cc0",
   "metadata": {},
   "outputs": [
    {
     "data": {
      "text/plain": [
       "6"
      ]
     },
     "execution_count": 49,
     "metadata": {},
     "output_type": "execute_result"
    }
   ],
   "source": [
    "add = lambda x, y: x + y\n",
    "add(1, 5)"
   ]
  },
  {
   "cell_type": "markdown",
   "id": "b320cf1c-c4d6-44ef-9829-f55d83726620",
   "metadata": {},
   "source": [
    "### Zip"
   ]
  },
  {
   "cell_type": "markdown",
   "id": "4683873b-3b9f-44c6-89b9-e6f3e095960b",
   "metadata": {},
   "source": [
    "You can combine multiple iterables together using `zip`. This turns out to pretty useful"
   ]
  },
  {
   "cell_type": "code",
   "execution_count": 51,
   "id": "d4a96e5a-0d3d-4a71-8587-b125d910aac5",
   "metadata": {},
   "outputs": [
    {
     "data": {
      "text/plain": [
       "<zip at 0x7f1d091f2500>"
      ]
     },
     "execution_count": 51,
     "metadata": {},
     "output_type": "execute_result"
    }
   ],
   "source": [
    "a = [1, 2, 3, 4, 5]\n",
    "b = [10, 11, 12, 13, 14]\n",
    "zip(a, b)"
   ]
  },
  {
   "cell_type": "markdown",
   "id": "01712321-fda0-4370-a58a-5fe98493597f",
   "metadata": {},
   "source": [
    "Ok, that seems less useful. It turns out `zip` returns an iterator object instead of the real thing. There are good efficiency reasons for this, but to get it to give you the real values, you need to do"
   ]
  },
  {
   "cell_type": "code",
   "execution_count": 52,
   "id": "d52fd15f-98b0-44b9-a010-e2a240b024b9",
   "metadata": {},
   "outputs": [
    {
     "data": {
      "text/plain": [
       "[(1, 10), (2, 11), (3, 12), (4, 13), (5, 14)]"
      ]
     },
     "execution_count": 52,
     "metadata": {},
     "output_type": "execute_result"
    }
   ],
   "source": [
    "list(zip(a, b))"
   ]
  },
  {
   "cell_type": "markdown",
   "id": "7de46c79-a838-4404-85e6-add2e7bfe5c7",
   "metadata": {},
   "source": [
    "### Modules"
   ]
  },
  {
   "cell_type": "markdown",
   "id": "85b7d2e5-63b4-4e03-85c3-b52fdd692841",
   "metadata": {},
   "source": [
    "There are quite a few built in modules that have useful functions. There are also many third-party modules that we'll use extensively."
   ]
  },
  {
   "cell_type": "code",
   "execution_count": 54,
   "id": "6669afcf-a65e-4daf-89f4-4ef180d2bcea",
   "metadata": {},
   "outputs": [
    {
     "data": {
      "text/plain": [
       "'My phone number is xxx-xxxx'"
      ]
     },
     "execution_count": 54,
     "metadata": {},
     "output_type": "execute_result"
    }
   ],
   "source": [
    "import re # regular expressions\n",
    "re.sub(r'\\d', 'x', 'My phone number is 123-4567')"
   ]
  },
  {
   "cell_type": "markdown",
   "id": "aafba110-803b-4a67-a24d-348d25be5fd6",
   "metadata": {},
   "source": [
    "Here's an example using `itertools.chain` which is often useful for chaining iterators together. In addition to `itertools`, other all-star built-in modules include `operator`, `functools`, and `operator`."
   ]
  },
  {
   "cell_type": "code",
   "execution_count": 47,
   "id": "27eac49d-0179-41cf-b959-65303444c9fa",
   "metadata": {},
   "outputs": [
    {
     "name": "stdout",
     "output_type": "stream",
     "text": [
      "[range(0, 0), range(0, 1), range(0, 2), range(0, 3), range(0, 4)]\n"
     ]
    },
    {
     "data": {
      "text/plain": [
       "[0, 0, 1, 0, 1, 2, 0, 1, 2, 3]"
      ]
     },
     "execution_count": 47,
     "metadata": {},
     "output_type": "execute_result"
    }
   ],
   "source": [
    "from itertools import chain\n",
    "a = [range(i) for i in range(5)]\n",
    "print(a)\n",
    "b = chain(*a)\n",
    "list(b)"
   ]
  },
  {
   "cell_type": "markdown",
   "id": "40eabd6d-23ff-438c-be46-e8f8dbbc278a",
   "metadata": {},
   "source": [
    "# Libraries"
   ]
  },
  {
   "cell_type": "markdown",
   "id": "f78b0ae7-032f-492d-a464-64e2da16f6ee",
   "metadata": {},
   "source": [
    "### Numerics with `numpy`"
   ]
  },
  {
   "cell_type": "code",
   "execution_count": 51,
   "id": "3d74bca6-63dc-43d9-b29b-7407994ee691",
   "metadata": {},
   "outputs": [],
   "source": [
    "# it's pronounced num-pie :)\n",
    "import numpy as np"
   ]
  },
  {
   "cell_type": "markdown",
   "id": "a4778a27-4aea-4094-8c9b-89c70765a014",
   "metadata": {},
   "source": [
    "The central object in `numpy` is an N-dimensional array type `np.ndarray`. Lots of stuff here is going to be similar to matlab arrays."
   ]
  },
  {
   "cell_type": "code",
   "execution_count": 48,
   "id": "65eba231-ced9-4d30-be97-ce79a10a6824",
   "metadata": {},
   "outputs": [
    {
     "data": {
      "text/plain": [
       "array([1., 1., 1., 1., 1., 1., 1., 1., 1., 1.])"
      ]
     },
     "execution_count": 48,
     "metadata": {},
     "output_type": "execute_result"
    }
   ],
   "source": [
    "np.ones(10)"
   ]
  },
  {
   "cell_type": "markdown",
   "id": "42549461-3633-4143-a806-990191bbbc98",
   "metadata": {},
   "source": [
    "You can create an array from a list with `np.array`, but the inputs should be numerical"
   ]
  },
  {
   "cell_type": "code",
   "execution_count": 49,
   "id": "a98f2367-2391-486d-8b0a-08ba99d3d4ce",
   "metadata": {},
   "outputs": [
    {
     "data": {
      "text/plain": [
       "array([1, 2, 3, 4])"
      ]
     },
     "execution_count": 49,
     "metadata": {},
     "output_type": "execute_result"
    }
   ],
   "source": [
    "np.array([1, 2, 3, 4])"
   ]
  },
  {
   "cell_type": "markdown",
   "id": "88de6d32-c53d-428b-af4a-db608db1d7b9",
   "metadata": {},
   "source": [
    "Note that when generating ranges, the left limit is inclusive while the right limit is non-inclusive"
   ]
  },
  {
   "cell_type": "code",
   "execution_count": 50,
   "id": "ad5672cf-aeed-4713-bd11-fd14e3daf77d",
   "metadata": {},
   "outputs": [
    {
     "name": "stdout",
     "output_type": "stream",
     "text": [
      "[0 1 2 3 4 5 6 7 8 9]\n"
     ]
    }
   ],
   "source": [
    "a = np.arange(10)\n",
    "print(a)"
   ]
  },
  {
   "cell_type": "markdown",
   "id": "d292e2df-0db6-462d-95d4-afb25f4bf834",
   "metadata": {},
   "source": [
    "There are a bunch of different ways to slice arrays, much like lists but more powerful."
   ]
  },
  {
   "cell_type": "code",
   "execution_count": 52,
   "id": "05279a09-a76c-4093-8e3e-2be2236e431c",
   "metadata": {},
   "outputs": [
    {
     "name": "stdout",
     "output_type": "stream",
     "text": [
      "[0 1 2 3 4 5 6 7 8 9]\n",
      "0\n",
      "[3 4 5 6 7 8 9]\n",
      "[0 1 2 3 4 5 6 7 8]\n",
      "[3 4]\n",
      "[4 1 9 2]\n"
     ]
    }
   ],
   "source": [
    "a = np.arange(10)\n",
    "print(a)\n",
    "print(a[0]) # zero indexed!\n",
    "print(a[3:]) # no 'end' needed\n",
    "print(a[:-1]) # negatives index from end\n",
    "print(a[3:5]) # second index is non-inclusive\n",
    "print(a[[4,1,9,2]]) # index with a list"
   ]
  },
  {
   "cell_type": "markdown",
   "id": "0165bcdc-f0a8-457f-9009-3d9f540626be",
   "metadata": {},
   "source": [
    "We can \"broadcast\" new dimensions at will. Here we make a column vector. Note that the row dimension is the first index (row-major)"
   ]
  },
  {
   "cell_type": "code",
   "execution_count": 54,
   "id": "09750a88-1c17-4d69-9194-a2affea147fd",
   "metadata": {},
   "outputs": [
    {
     "data": {
      "text/plain": [
       "array([[0],\n",
       "       [1],\n",
       "       [2],\n",
       "       [3],\n",
       "       [4],\n",
       "       [5],\n",
       "       [6],\n",
       "       [7],\n",
       "       [8],\n",
       "       [9]])"
      ]
     },
     "execution_count": 54,
     "metadata": {},
     "output_type": "execute_result"
    }
   ],
   "source": [
    "a[:, None]"
   ]
  },
  {
   "cell_type": "markdown",
   "id": "50ab9223-06e6-4bef-b7f0-27821ef8651f",
   "metadata": {},
   "source": [
    "Here's same thing but for a row vector"
   ]
  },
  {
   "cell_type": "code",
   "execution_count": 56,
   "id": "be48ea05-5e60-47de-ab78-71ad853a4ecf",
   "metadata": {},
   "outputs": [
    {
     "data": {
      "text/plain": [
       "array([[0, 1, 2, 3, 4, 5, 6, 7, 8, 9]])"
      ]
     },
     "execution_count": 56,
     "metadata": {},
     "output_type": "execute_result"
    }
   ],
   "source": [
    "a[None, :]"
   ]
  },
  {
   "cell_type": "markdown",
   "id": "be0908ec-f073-48b8-a578-3246d143d7a2",
   "metadata": {},
   "source": [
    "We can construct complex matrices using indexing and broadcasting. Do this instead of repmat!"
   ]
  },
  {
   "cell_type": "code",
   "execution_count": 58,
   "id": "0d50c227-bf59-49b9-9bc7-a617ee59193d",
   "metadata": {},
   "outputs": [
    {
     "data": {
      "text/plain": [
       "array([[ 0,  1,  2,  3,  4,  5,  6,  7,  8,  9],\n",
       "       [ 1,  2,  3,  4,  5,  6,  7,  8,  9, 10],\n",
       "       [ 2,  3,  4,  5,  6,  7,  8,  9, 10, 11],\n",
       "       [ 3,  4,  5,  6,  7,  8,  9, 10, 11, 12],\n",
       "       [ 4,  5,  6,  7,  8,  9, 10, 11, 12, 13],\n",
       "       [ 5,  6,  7,  8,  9, 10, 11, 12, 13, 14],\n",
       "       [ 6,  7,  8,  9, 10, 11, 12, 13, 14, 15],\n",
       "       [ 7,  8,  9, 10, 11, 12, 13, 14, 15, 16],\n",
       "       [ 8,  9, 10, 11, 12, 13, 14, 15, 16, 17],\n",
       "       [ 9, 10, 11, 12, 13, 14, 15, 16, 17, 18]])"
      ]
     },
     "execution_count": 58,
     "metadata": {},
     "output_type": "execute_result"
    }
   ],
   "source": [
    "a[:, None] + a[None, :]"
   ]
  },
  {
   "cell_type": "markdown",
   "id": "e0523ead-4e32-41a5-a7a8-797201001058",
   "metadata": {},
   "source": [
    "Multiplication is element-wise by default (like .* in matlab)"
   ]
  },
  {
   "cell_type": "code",
   "execution_count": 59,
   "id": "20664987-be03-44de-8a97-f78892dae17a",
   "metadata": {},
   "outputs": [
    {
     "data": {
      "text/plain": [
       "array([ 0,  1,  4,  9, 16, 25, 36, 49, 64, 81])"
      ]
     },
     "execution_count": 59,
     "metadata": {},
     "output_type": "execute_result"
    }
   ],
   "source": [
    "np.arange(10) * np.arange(10)"
   ]
  },
  {
   "cell_type": "markdown",
   "id": "dc45688e-a1f8-47ab-8a3c-4e204969fbf9",
   "metadata": {},
   "source": [
    "Broadcasting works for a variety of operators, not just addition."
   ]
  },
  {
   "cell_type": "code",
   "execution_count": 60,
   "id": "c358745c-281d-47df-a228-def4e8c36b32",
   "metadata": {},
   "outputs": [
    {
     "data": {
      "text/plain": [
       "array([[ 50,  55,  60,  65,  70,  75,  80,  85,  90,  95],\n",
       "       [ 60,  66,  72,  78,  84,  90,  96, 102, 108, 114],\n",
       "       [ 70,  77,  84,  91,  98, 105, 112, 119, 126, 133],\n",
       "       [ 80,  88,  96, 104, 112, 120, 128, 136, 144, 152],\n",
       "       [ 90,  99, 108, 117, 126, 135, 144, 153, 162, 171],\n",
       "       [100, 110, 120, 130, 140, 150, 160, 170, 180, 190],\n",
       "       [110, 121, 132, 143, 154, 165, 176, 187, 198, 209],\n",
       "       [120, 132, 144, 156, 168, 180, 192, 204, 216, 228],\n",
       "       [130, 143, 156, 169, 182, 195, 208, 221, 234, 247],\n",
       "       [140, 154, 168, 182, 196, 210, 224, 238, 252, 266]])"
      ]
     },
     "execution_count": 60,
     "metadata": {},
     "output_type": "execute_result"
    }
   ],
   "source": [
    "np.arange(10, 20)[None, :]*np.arange(5,15)[:, None]"
   ]
  },
  {
   "cell_type": "markdown",
   "id": "3cbe7043-5cbd-46d5-8af5-bf3c06fb59ce",
   "metadata": {},
   "source": [
    "You can always get shape/size information about an array."
   ]
  },
  {
   "cell_type": "code",
   "execution_count": 61,
   "id": "c0a57882-49b9-4c3e-9312-d2e4c4acef47",
   "metadata": {},
   "outputs": [
    {
     "name": "stdout",
     "output_type": "stream",
     "text": [
      "(3, 5) 15\n"
     ]
    },
    {
     "data": {
      "text/plain": [
       "array([[1., 1., 1., 1., 1.],\n",
       "       [1., 1., 1., 1., 1.],\n",
       "       [1., 1., 1., 1., 1.]])"
      ]
     },
     "execution_count": 61,
     "metadata": {},
     "output_type": "execute_result"
    }
   ],
   "source": [
    "a = np.ones((3, 5))\n",
    "print(a.shape, a.size)\n",
    "a"
   ]
  },
  {
   "cell_type": "markdown",
   "id": "6843fd27-3535-4149-8d4b-a059dc39200b",
   "metadata": {},
   "source": [
    "Reshaping is a whole thing."
   ]
  },
  {
   "cell_type": "code",
   "execution_count": 77,
   "id": "d432f8e4-c877-47aa-9357-291a1f365bc3",
   "metadata": {},
   "outputs": [
    {
     "name": "stdout",
     "output_type": "stream",
     "text": [
      "(10, 2)\n",
      "(5, 4)\n",
      "(20,)\n"
     ]
    }
   ],
   "source": [
    "a = np.ones((4, 5))\n",
    "print(a.reshape((10, 2)).shape)\n",
    "print(a.T.shape)\n",
    "print(a.flatten().shape)"
   ]
  },
  {
   "cell_type": "markdown",
   "id": "9e763c57-9db6-48c1-bceb-2ec6444bd21f",
   "metadata": {},
   "source": [
    "There is basic linear algebra in `numpy`, but you'll want to see `scipy` for more advanced operations and for statistical distributions."
   ]
  },
  {
   "cell_type": "code",
   "execution_count": 62,
   "id": "76726f6d-172e-4b3a-9e5a-5061bb200a64",
   "metadata": {},
   "outputs": [
    {
     "name": "stdout",
     "output_type": "stream",
     "text": [
      "[[ 0.17941876  1.8425588   3.5254179  -2.64382421 -0.71398209]\n",
      " [-1.69050323 -2.30513917 -3.17945327  3.36489942  2.21657208]\n",
      " [ 0.18185687  1.30491758  0.26778018 -1.29656829  0.67987751]\n",
      " [ 4.4767183   2.05611406  5.83024995 -5.07426302 -3.99665051]\n",
      " [-2.3655925  -1.98204086 -4.80832243  5.23262069  1.3236275 ]]\n",
      "9.211347777390836e-16\n"
     ]
    }
   ],
   "source": [
    "m = np.random.rand(5, 5)\n",
    "mi = np.linalg.inv(m)\n",
    "print(mi)\n",
    "print((np.dot(m, mi)-np.eye(5)).max())"
   ]
  },
  {
   "cell_type": "markdown",
   "id": "84d9bb89-a9ac-4f0f-bfd6-fd8368d2d13f",
   "metadata": {},
   "source": [
    "But `numpy` has many different routines for random number generation."
   ]
  },
  {
   "cell_type": "code",
   "execution_count": 63,
   "id": "3bcf8f9d-110c-4aa2-9ffc-32fb8f618e31",
   "metadata": {},
   "outputs": [
    {
     "data": {
      "text/plain": [
       "array([0, 1, 3, 2, 3, 4, 4, 4, 4, 0])"
      ]
     },
     "execution_count": 63,
     "metadata": {},
     "output_type": "execute_result"
    }
   ],
   "source": [
    "np.random.randint(5, size=10)"
   ]
  },
  {
   "cell_type": "markdown",
   "id": "d1d63762-340b-4c50-bd2b-3ef95fb643af",
   "metadata": {},
   "source": [
    "### Plotting with `matplotlib`"
   ]
  },
  {
   "cell_type": "markdown",
   "id": "30dcc08a-1ae1-45fc-8bbb-a5d6e7685f7d",
   "metadata": {},
   "source": [
    "First I'm going to do some non-required stuff to configure graph appearance to my liking"
   ]
  },
  {
   "cell_type": "code",
   "execution_count": 65,
   "id": "b2e44a1b-5ebf-4dbf-9ae2-26496d890eea",
   "metadata": {},
   "outputs": [],
   "source": [
    "import matplotlib as mpl\n",
    "mpl.style.use('./config/clean.mplstyle') # this loads my personal plotting settings\n",
    "%config InlineBackend.figure_format = 'retina' # if you have an HD display"
   ]
  },
  {
   "cell_type": "markdown",
   "id": "31cef7e7-d7a4-466d-8f35-4022a5b24444",
   "metadata": {},
   "source": [
    "For most use cases, this is the only import you need. Note that it is a little non-standard."
   ]
  },
  {
   "cell_type": "code",
   "execution_count": 64,
   "id": "96d55de3-6a8a-4c16-af70-e4e676add4c5",
   "metadata": {},
   "outputs": [],
   "source": [
    "import matplotlib.pyplot as plt"
   ]
  },
  {
   "cell_type": "markdown",
   "id": "9124f24c-bde8-4a72-9f6a-01c1d438917d",
   "metadata": {},
   "source": [
    "First let's do a simple line plot example. You'll usually be passing `numpy` arrays to `matplotlib`, but it also accepts lists."
   ]
  },
  {
   "cell_type": "code",
   "execution_count": 67,
   "id": "b3eb92f8-c51e-47ef-a81b-17db5a2ec863",
   "metadata": {},
   "outputs": [
    {
     "data": {
      "image/png": "[encoded data removed]",
      "text/plain": [
       "<Figure size 550x400 with 1 Axes>"
      ]
     },
     "metadata": {
      "image/png": {
       "height": 344,
       "width": 473
      }
     },
     "output_type": "display_data"
    }
   ],
   "source": [
    "plt.plot(np.arange(10, 20), np.arange(10));"
   ]
  },
  {
   "cell_type": "markdown",
   "id": "4b75e683-0502-4744-8c37-99f47737c4cc",
   "metadata": {},
   "source": [
    "Another useful plot is the histogram for a given array."
   ]
  },
  {
   "cell_type": "code",
   "execution_count": 68,
   "id": "fc908b72-811b-429c-a655-5f22816ca9d1",
   "metadata": {},
   "outputs": [
    {
     "data": {
      "image/png": "[encoded data removed]",
      "text/plain": [
       "<Figure size 550x400 with 1 Axes>"
      ]
     },
     "metadata": {
      "image/png": {
       "height": 344,
       "width": 490
      }
     },
     "output_type": "display_data"
    }
   ],
   "source": [
    "plt.hist(np.random.randn(1000));"
   ]
  },
  {
   "cell_type": "markdown",
   "id": "6d870e7b-aa08-4945-82da-e20be3eafdac",
   "metadata": {},
   "source": [
    "Passing a 2d array will treat each column as a separate series."
   ]
  },
  {
   "cell_type": "code",
   "execution_count": 70,
   "id": "8c7f0f6b-ce08-49e4-aaa1-4449f39dbecf",
   "metadata": {},
   "outputs": [
    {
     "data": {
      "image/png": "[encoded data removed]",
      "text/plain": [
       "<Figure size 550x400 with 1 Axes>"
      ]
     },
     "metadata": {
      "image/png": {
       "height": 344,
       "width": 493
      }
     },
     "output_type": "display_data"
    }
   ],
   "source": [
    "plt.plot(np.cumsum(np.random.randn(1000, 2), axis=0));"
   ]
  },
  {
   "cell_type": "markdown",
   "id": "30daaa8a-ba98-4d75-b593-df58c2fa5cbd",
   "metadata": {},
   "source": [
    "### Data with `pandas`"
   ]
  },
  {
   "cell_type": "code",
   "execution_count": 71,
   "id": "a69cede9-7f3b-4d67-b3e5-82feb0e76729",
   "metadata": {},
   "outputs": [],
   "source": [
    "import pandas as pd"
   ]
  },
  {
   "cell_type": "markdown",
   "id": "7f12dcc0-894f-4b0b-af57-fe3fedf1f11f",
   "metadata": {},
   "source": [
    "A `Series` is a 1-D array with an attached index, which defaults to `range(n)`."
   ]
  },
  {
   "cell_type": "code",
   "execution_count": 74,
   "id": "21a2a0f5-dd6f-4331-84db-97449c709bde",
   "metadata": {},
   "outputs": [
    {
     "data": {
      "text/plain": [
       "10    0.185459\n",
       "11    0.947054\n",
       "12    0.620941\n",
       "13    0.677210\n",
       "14    0.428261\n",
       "15    0.699120\n",
       "16    0.828754\n",
       "17    0.215353\n",
       "18    0.623805\n",
       "19    0.679220\n",
       "dtype: float64"
      ]
     },
     "execution_count": 74,
     "metadata": {},
     "output_type": "execute_result"
    }
   ],
   "source": [
    "s = pd.Series(np.random.rand(10), index=np.arange(10, 20))\n",
    "s"
   ]
  },
  {
   "cell_type": "markdown",
   "id": "897c3fe9-b43c-4b8c-8f7a-e2f20da89154",
   "metadata": {},
   "source": [
    "Let's look at the underlying data"
   ]
  },
  {
   "cell_type": "code",
   "execution_count": 75,
   "id": "d2e8fbb7-25fa-498e-86aa-bebb6ed8e9c3",
   "metadata": {},
   "outputs": [
    {
     "name": "stdout",
     "output_type": "stream",
     "text": [
      "Int64Index([10, 11, 12, 13, 14, 15, 16, 17, 18, 19], dtype='int64')\n",
      "[0.18545867 0.94705393 0.62094138 0.67720985 0.4282612  0.69912019\n",
      " 0.82875414 0.21535327 0.62380505 0.67921995]\n"
     ]
    }
   ],
   "source": [
    "print(s.index)\n",
    "print(s.values)"
   ]
  },
  {
   "cell_type": "markdown",
   "id": "d3e8bb56-a11f-415a-bf6b-24743d4ce202",
   "metadata": {},
   "source": [
    "Or get a quick summary of a numeric series"
   ]
  },
  {
   "cell_type": "code",
   "execution_count": 76,
   "id": "dfda25d4-8442-4cda-adc3-28f32f8e0232",
   "metadata": {},
   "outputs": [
    {
     "data": {
      "text/plain": [
       "count    10.000000\n",
       "mean      0.590518\n",
       "std       0.245908\n",
       "min       0.185459\n",
       "25%       0.476431\n",
       "50%       0.650507\n",
       "75%       0.694145\n",
       "max       0.947054\n",
       "dtype: float64"
      ]
     },
     "execution_count": 76,
     "metadata": {},
     "output_type": "execute_result"
    }
   ],
   "source": [
    "s.describe()"
   ]
  },
  {
   "cell_type": "markdown",
   "id": "c5d5218f-34bf-4267-967f-d12a031fefef",
   "metadata": {},
   "source": [
    "A `DataFrame` is like a dictionary of `Series` with a common index"
   ]
  },
  {
   "cell_type": "code",
   "execution_count": 77,
   "id": "de9c674e-cf36-4179-9cb4-874ebf31214f",
   "metadata": {},
   "outputs": [
    {
     "data": {
      "text/html": [
       "<div>\n",
       "<style scoped>\n",
       "    .dataframe tbody tr th:only-of-type {\n",
       "        vertical-align: middle;\n",
       "    }\n",
       "\n",
       "    .dataframe tbody tr th {\n",
       "        vertical-align: top;\n",
       "    }\n",
       "\n",
       "    .dataframe thead th {\n",
       "        text-align: right;\n",
       "    }\n",
       "</style>\n",
       "<table border=\"1\" class=\"dataframe\">\n",
       "  <thead>\n",
       "    <tr style=\"text-align: right;\">\n",
       "      <th></th>\n",
       "      <th>ser1</th>\n",
       "      <th>ser2</th>\n",
       "    </tr>\n",
       "  </thead>\n",
       "  <tbody>\n",
       "    <tr>\n",
       "      <th>10</th>\n",
       "      <td>0.185459</td>\n",
       "      <td>0.038782</td>\n",
       "    </tr>\n",
       "    <tr>\n",
       "      <th>11</th>\n",
       "      <td>0.947054</td>\n",
       "      <td>-1.535639</td>\n",
       "    </tr>\n",
       "    <tr>\n",
       "      <th>12</th>\n",
       "      <td>0.620941</td>\n",
       "      <td>-0.980943</td>\n",
       "    </tr>\n",
       "    <tr>\n",
       "      <th>13</th>\n",
       "      <td>0.677210</td>\n",
       "      <td>0.007174</td>\n",
       "    </tr>\n",
       "    <tr>\n",
       "      <th>14</th>\n",
       "      <td>0.428261</td>\n",
       "      <td>0.205036</td>\n",
       "    </tr>\n",
       "  </tbody>\n",
       "</table>\n",
       "</div>"
      ],
      "text/plain": [
       "        ser1      ser2\n",
       "10  0.185459  0.038782\n",
       "11  0.947054 -1.535639\n",
       "12  0.620941 -0.980943\n",
       "13  0.677210  0.007174\n",
       "14  0.428261  0.205036"
      ]
     },
     "execution_count": 77,
     "metadata": {},
     "output_type": "execute_result"
    }
   ],
   "source": [
    "df = pd.DataFrame({'ser1': s, 'ser2': np.random.randn(10)})\n",
    "df.head()"
   ]
  },
  {
   "cell_type": "markdown",
   "id": "266ae756-56dc-49c1-96d2-2d89749d8138",
   "metadata": {},
   "source": [
    "We can get summary stats for each column."
   ]
  },
  {
   "cell_type": "code",
   "execution_count": 78,
   "id": "4e1a48ab-0f54-4ae6-9462-85f91a164e07",
   "metadata": {},
   "outputs": [
    {
     "data": {
      "text/html": [
       "<div>\n",
       "<style scoped>\n",
       "    .dataframe tbody tr th:only-of-type {\n",
       "        vertical-align: middle;\n",
       "    }\n",
       "\n",
       "    .dataframe tbody tr th {\n",
       "        vertical-align: top;\n",
       "    }\n",
       "\n",
       "    .dataframe thead th {\n",
       "        text-align: right;\n",
       "    }\n",
       "</style>\n",
       "<table border=\"1\" class=\"dataframe\">\n",
       "  <thead>\n",
       "    <tr style=\"text-align: right;\">\n",
       "      <th></th>\n",
       "      <th>ser1</th>\n",
       "      <th>ser2</th>\n",
       "    </tr>\n",
       "  </thead>\n",
       "  <tbody>\n",
       "    <tr>\n",
       "      <th>count</th>\n",
       "      <td>10.000000</td>\n",
       "      <td>10.000000</td>\n",
       "    </tr>\n",
       "    <tr>\n",
       "      <th>mean</th>\n",
       "      <td>0.590518</td>\n",
       "      <td>0.234001</td>\n",
       "    </tr>\n",
       "    <tr>\n",
       "      <th>std</th>\n",
       "      <td>0.245908</td>\n",
       "      <td>1.083645</td>\n",
       "    </tr>\n",
       "    <tr>\n",
       "      <th>min</th>\n",
       "      <td>0.185459</td>\n",
       "      <td>-1.535639</td>\n",
       "    </tr>\n",
       "    <tr>\n",
       "      <th>25%</th>\n",
       "      <td>0.476431</td>\n",
       "      <td>-0.090772</td>\n",
       "    </tr>\n",
       "    <tr>\n",
       "      <th>50%</th>\n",
       "      <td>0.650507</td>\n",
       "      <td>0.100324</td>\n",
       "    </tr>\n",
       "    <tr>\n",
       "      <th>75%</th>\n",
       "      <td>0.694145</td>\n",
       "      <td>0.921442</td>\n",
       "    </tr>\n",
       "    <tr>\n",
       "      <th>max</th>\n",
       "      <td>0.947054</td>\n",
       "      <td>2.233067</td>\n",
       "    </tr>\n",
       "  </tbody>\n",
       "</table>\n",
       "</div>"
      ],
      "text/plain": [
       "            ser1       ser2\n",
       "count  10.000000  10.000000\n",
       "mean    0.590518   0.234001\n",
       "std     0.245908   1.083645\n",
       "min     0.185459  -1.535639\n",
       "25%     0.476431  -0.090772\n",
       "50%     0.650507   0.100324\n",
       "75%     0.694145   0.921442\n",
       "max     0.947054   2.233067"
      ]
     },
     "execution_count": 78,
     "metadata": {},
     "output_type": "execute_result"
    }
   ],
   "source": [
    "df.describe()"
   ]
  },
  {
   "cell_type": "markdown",
   "id": "bd4668d6-7a3c-4945-9ff5-ed6366e252fe",
   "metadata": {},
   "source": [
    "This makes plotting much more convenient and powerful."
   ]
  },
  {
   "cell_type": "code",
   "execution_count": 82,
   "id": "b74c3a9c-e938-4c23-bd22-fa462002274a",
   "metadata": {},
   "outputs": [
    {
     "data": {
      "image/png": "[encoded data removed]",
      "text/plain": [
       "<Figure size 550x400 with 1 Axes>"
      ]
     },
     "metadata": {
      "image/png": {
       "height": 367,
       "width": 498
      }
     },
     "output_type": "display_data"
    }
   ],
   "source": [
    "df.plot(title='Random Stuff');"
   ]
  },
  {
   "cell_type": "markdown",
   "id": "7d9b52e9-a323-47fe-b3c3-13144c95fbfd",
   "metadata": {},
   "source": [
    "Accessing individual columns yields a Series"
   ]
  },
  {
   "cell_type": "code",
   "execution_count": 83,
   "id": "220b7a69-65e4-4939-acb9-cfe99b23a166",
   "metadata": {},
   "outputs": [
    {
     "data": {
      "text/plain": [
       "10    0.185459\n",
       "11    0.947054\n",
       "12    0.620941\n",
       "13    0.677210\n",
       "14    0.428261\n",
       "15    0.699120\n",
       "16    0.828754\n",
       "17    0.215353\n",
       "18    0.623805\n",
       "19    0.679220\n",
       "Name: ser1, dtype: float64"
      ]
     },
     "execution_count": 83,
     "metadata": {},
     "output_type": "execute_result"
    }
   ],
   "source": [
    "df['ser1']"
   ]
  },
  {
   "cell_type": "markdown",
   "id": "2f88e1ca-9d85-4700-9a83-29960206a17a",
   "metadata": {},
   "source": [
    "We can perform vector operations on these"
   ]
  },
  {
   "cell_type": "code",
   "execution_count": 85,
   "id": "744b2721-5493-4f2e-bdf3-a97e1a2b05b0",
   "metadata": {},
   "outputs": [
    {
     "data": {
      "text/plain": [
       "10    False\n",
       "11     True\n",
       "12     True\n",
       "13     True\n",
       "14    False\n",
       "15     True\n",
       "16     True\n",
       "17    False\n",
       "18     True\n",
       "19     True\n",
       "Name: ser1, dtype: bool"
      ]
     },
     "execution_count": 85,
     "metadata": {},
     "output_type": "execute_result"
    }
   ],
   "source": [
    "df['ser1'] > 0.5"
   ]
  },
  {
   "cell_type": "markdown",
   "id": "bad2eed5-136f-4cb0-9224-63b3ddd2d7bf",
   "metadata": {},
   "source": [
    "We can select particular rows in this way."
   ]
  },
  {
   "cell_type": "code",
   "execution_count": 87,
   "id": "b18ca836-6cf5-4c49-a48b-8f72910a2a31",
   "metadata": {},
   "outputs": [
    {
     "data": {
      "text/html": [
       "<div>\n",
       "<style scoped>\n",
       "    .dataframe tbody tr th:only-of-type {\n",
       "        vertical-align: middle;\n",
       "    }\n",
       "\n",
       "    .dataframe tbody tr th {\n",
       "        vertical-align: top;\n",
       "    }\n",
       "\n",
       "    .dataframe thead th {\n",
       "        text-align: right;\n",
       "    }\n",
       "</style>\n",
       "<table border=\"1\" class=\"dataframe\">\n",
       "  <thead>\n",
       "    <tr style=\"text-align: right;\">\n",
       "      <th></th>\n",
       "      <th>ser1</th>\n",
       "      <th>ser2</th>\n",
       "    </tr>\n",
       "  </thead>\n",
       "  <tbody>\n",
       "    <tr>\n",
       "      <th>11</th>\n",
       "      <td>0.947054</td>\n",
       "      <td>-1.535639</td>\n",
       "    </tr>\n",
       "    <tr>\n",
       "      <th>12</th>\n",
       "      <td>0.620941</td>\n",
       "      <td>-0.980943</td>\n",
       "    </tr>\n",
       "    <tr>\n",
       "      <th>13</th>\n",
       "      <td>0.677210</td>\n",
       "      <td>0.007174</td>\n",
       "    </tr>\n",
       "    <tr>\n",
       "      <th>18</th>\n",
       "      <td>0.623805</td>\n",
       "      <td>-0.123421</td>\n",
       "    </tr>\n",
       "    <tr>\n",
       "      <th>19</th>\n",
       "      <td>0.679220</td>\n",
       "      <td>0.161867</td>\n",
       "    </tr>\n",
       "  </tbody>\n",
       "</table>\n",
       "</div>"
      ],
      "text/plain": [
       "        ser1      ser2\n",
       "11  0.947054 -1.535639\n",
       "12  0.620941 -0.980943\n",
       "13  0.677210  0.007174\n",
       "18  0.623805 -0.123421\n",
       "19  0.679220  0.161867"
      ]
     },
     "execution_count": 87,
     "metadata": {},
     "output_type": "execute_result"
    }
   ],
   "source": [
    "df1 = df[(df['ser1']>0.5) & (df['ser2']<1.0)]\n",
    "df1"
   ]
  },
  {
   "cell_type": "markdown",
   "id": "44fad176-f897-439d-844a-41c878749068",
   "metadata": {},
   "source": [
    "### Regression with `statsmodels`"
   ]
  },
  {
   "cell_type": "markdown",
   "id": "e25a7525-e420-45e8-8657-62e382301734",
   "metadata": {},
   "source": [
    "This import is also non-standard. We're going to use the formula based API."
   ]
  },
  {
   "cell_type": "code",
   "execution_count": 89,
   "id": "8c0f3b68-1c9b-4205-8b2f-d4683d90613a",
   "metadata": {},
   "outputs": [],
   "source": [
    "import statsmodels.formula.api as smf"
   ]
  },
  {
   "cell_type": "markdown",
   "id": "c3ab1411-e63b-45ea-8c7a-1faac15999a4",
   "metadata": {},
   "source": [
    "Gererate some random data with a known causal structure."
   ]
  },
  {
   "cell_type": "code",
   "execution_count": 91,
   "id": "8394ad00-811a-4293-93b3-93c49972834f",
   "metadata": {},
   "outputs": [],
   "source": [
    "N = 100\n",
    "x = np.random.randn(N)\n",
    "y = 3*np.random.randn(N)\n",
    "z = 1 + 2*x + 3*y + 4*x*y + np.random.randn(N)\n",
    "df0 = pd.DataFrame({'x': x, 'y': y, 'z': z})"
   ]
  },
  {
   "cell_type": "markdown",
   "id": "c607afa1-87da-4112-a5b0-cee1784d95ab",
   "metadata": {},
   "source": [
    "Run an OLS regression with a properly specified model."
   ]
  },
  {
   "cell_type": "code",
   "execution_count": 105,
   "id": "efb31891-83c9-494f-a3ef-626e93f11d08",
   "metadata": {},
   "outputs": [
    {
     "data": {
      "text/html": [
       "<table class=\"simpletable\">\n",
       "<caption>OLS Regression Results</caption>\n",
       "<tr>\n",
       "  <th>Dep. Variable:</th>            <td>z</td>        <th>  R-squared:         </th> <td>   0.995</td> \n",
       "</tr>\n",
       "<tr>\n",
       "  <th>Model:</th>                   <td>OLS</td>       <th>  Adj. R-squared:    </th> <td>   0.995</td> \n",
       "</tr>\n",
       "<tr>\n",
       "  <th>Method:</th>             <td>Least Squares</td>  <th>  F-statistic:       </th> <td>   6051.</td> \n",
       "</tr>\n",
       "<tr>\n",
       "  <th>Date:</th>             <td>Wed, 18 Oct 2023</td> <th>  Prob (F-statistic):</th> <td>3.20e-109</td>\n",
       "</tr>\n",
       "<tr>\n",
       "  <th>Time:</th>                 <td>01:17:27</td>     <th>  Log-Likelihood:    </th> <td> -129.82</td> \n",
       "</tr>\n",
       "<tr>\n",
       "  <th>No. Observations:</th>      <td>   100</td>      <th>  AIC:               </th> <td>   267.6</td> \n",
       "</tr>\n",
       "<tr>\n",
       "  <th>Df Residuals:</th>          <td>    96</td>      <th>  BIC:               </th> <td>   278.1</td> \n",
       "</tr>\n",
       "<tr>\n",
       "  <th>Df Model:</th>              <td>     3</td>      <th>                     </th>     <td> </td>    \n",
       "</tr>\n",
       "<tr>\n",
       "  <th>Covariance Type:</th>      <td>nonrobust</td>    <th>                     </th>     <td> </td>    \n",
       "</tr>\n",
       "</table>\n",
       "<table class=\"simpletable\">\n",
       "<tr>\n",
       "      <td></td>         <th>coef</th>     <th>std err</th>      <th>t</th>      <th>P>|t|</th>  <th>[0.025</th>    <th>0.975]</th>  \n",
       "</tr>\n",
       "<tr>\n",
       "  <th>Intercept</th> <td>    0.9803</td> <td>    0.091</td> <td>   10.820</td> <td> 0.000</td> <td>    0.800</td> <td>    1.160</td>\n",
       "</tr>\n",
       "<tr>\n",
       "  <th>x</th>         <td>    1.9855</td> <td>    0.081</td> <td>   24.553</td> <td> 0.000</td> <td>    1.825</td> <td>    2.146</td>\n",
       "</tr>\n",
       "<tr>\n",
       "  <th>y</th>         <td>    3.0253</td> <td>    0.036</td> <td>   83.635</td> <td> 0.000</td> <td>    2.954</td> <td>    3.097</td>\n",
       "</tr>\n",
       "<tr>\n",
       "  <th>x:y</th>       <td>    3.9928</td> <td>    0.033</td> <td>  120.989</td> <td> 0.000</td> <td>    3.927</td> <td>    4.058</td>\n",
       "</tr>\n",
       "</table>\n",
       "<table class=\"simpletable\">\n",
       "<tr>\n",
       "  <th>Omnibus:</th>       <td> 1.599</td> <th>  Durbin-Watson:     </th> <td>   2.149</td>\n",
       "</tr>\n",
       "<tr>\n",
       "  <th>Prob(Omnibus):</th> <td> 0.450</td> <th>  Jarque-Bera (JB):  </th> <td>   1.284</td>\n",
       "</tr>\n",
       "<tr>\n",
       "  <th>Skew:</th>          <td>-0.063</td> <th>  Prob(JB):          </th> <td>   0.526</td>\n",
       "</tr>\n",
       "<tr>\n",
       "  <th>Kurtosis:</th>      <td> 2.459</td> <th>  Cond. No.          </th> <td>    3.07</td>\n",
       "</tr>\n",
       "</table><br/><br/>Notes:<br/>[1] Standard Errors assume that the covariance matrix of the errors is correctly specified."
      ],
      "text/plain": [
       "<class 'statsmodels.iolib.summary.Summary'>\n",
       "\"\"\"\n",
       "                            OLS Regression Results                            \n",
       "==============================================================================\n",
       "Dep. Variable:                      z   R-squared:                       0.995\n",
       "Model:                            OLS   Adj. R-squared:                  0.995\n",
       "Method:                 Least Squares   F-statistic:                     6051.\n",
       "Date:                Wed, 18 Oct 2023   Prob (F-statistic):          3.20e-109\n",
       "Time:                        01:17:27   Log-Likelihood:                -129.82\n",
       "No. Observations:                 100   AIC:                             267.6\n",
       "Df Residuals:                      96   BIC:                             278.1\n",
       "Df Model:                           3                                         \n",
       "Covariance Type:            nonrobust                                         \n",
       "==============================================================================\n",
       "                 coef    std err          t      P>|t|      [0.025      0.975]\n",
       "------------------------------------------------------------------------------\n",
       "Intercept      0.9803      0.091     10.820      0.000       0.800       1.160\n",
       "x              1.9855      0.081     24.553      0.000       1.825       2.146\n",
       "y              3.0253      0.036     83.635      0.000       2.954       3.097\n",
       "x:y            3.9928      0.033    120.989      0.000       3.927       4.058\n",
       "==============================================================================\n",
       "Omnibus:                        1.599   Durbin-Watson:                   2.149\n",
       "Prob(Omnibus):                  0.450   Jarque-Bera (JB):                1.284\n",
       "Skew:                          -0.063   Prob(JB):                        0.526\n",
       "Kurtosis:                       2.459   Cond. No.                         3.07\n",
       "==============================================================================\n",
       "\n",
       "Notes:\n",
       "[1] Standard Errors assume that the covariance matrix of the errors is correctly specified.\n",
       "\"\"\""
      ]
     },
     "execution_count": 105,
     "metadata": {},
     "output_type": "execute_result"
    }
   ],
   "source": [
    "ret = smf.ols('z ~ 1 + x + y + x:y', data=df0).fit()\n",
    "ret.summary()"
   ]
  },
  {
   "cell_type": "markdown",
   "id": "40b9c190-77a9-47d1-a369-6e01c8aafe4d",
   "metadata": {},
   "source": [
    "You can access the parameters and standard errors directly as a series and dataframe"
   ]
  },
  {
   "cell_type": "code",
   "execution_count": 106,
   "id": "fad592c7-ca12-43d7-8baa-bdc113b0261d",
   "metadata": {},
   "outputs": [
    {
     "name": "stdout",
     "output_type": "stream",
     "text": [
      "Intercept    0.980283\n",
      "x            1.985538\n",
      "y            3.025330\n",
      "x:y          3.992819\n",
      "dtype: float64\n",
      "           Intercept         x         y       x:y\n",
      "Intercept   0.008208  0.000008 -0.000096 -0.000162\n",
      "x           0.000008  0.006539 -0.000104  0.000110\n",
      "y          -0.000096 -0.000104  0.001308  0.000300\n",
      "x:y        -0.000162  0.000110  0.000300  0.001089\n"
     ]
    }
   ],
   "source": [
    "print(ret.params)\n",
    "print(ret.cov_params())"
   ]
  },
  {
   "cell_type": "code",
   "execution_count": null,
   "id": "9cfa00b0-e27f-40d8-b8b8-760922108301",
   "metadata": {},
   "outputs": [],
   "source": []
  }
 ],
 "metadata": {
  "kernelspec": {
   "display_name": "Python 3 (ipykernel)",
   "language": "python",
   "name": "python3"
  },
  "language_info": {
   "codemirror_mode": {
    "name": "ipython",
    "version": 3
   },
   "file_extension": ".py",
   "mimetype": "text/x-python",
   "name": "python",
   "nbconvert_exporter": "python",
   "pygments_lexer": "ipython3",
   "version": "3.10.13"
  }
 },
 "nbformat": 4,
 "nbformat_minor": 5
}
